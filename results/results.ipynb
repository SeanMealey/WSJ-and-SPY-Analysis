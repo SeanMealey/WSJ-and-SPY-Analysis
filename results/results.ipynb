{
 "cells": [
  {
   "cell_type": "code",
   "execution_count": null,
   "id": "0e05b9a1",
   "metadata": {},
   "outputs": [],
   "source": [
    "import matplotlib.pyplot as plt\n",
    "import seaborn as sns\n",
    "import pandas as pd\n",
    "\n",
    "def estimate_coef(x, y):\n",
    "  # number of observations/points\n",
    "  n = np.size(x)\n",
    "\n",
    "  # mean of x and y vector\n",
    "  m_x = np.mean(x)\n",
    "  m_y = np.mean(y)\n",
    "\n",
    "  # calculating cross-deviation and deviation about x\n",
    "  SS_xy = np.sum(y*x) - n*m_y*m_x\n",
    "  SS_xx = np.sum(x*x) - n*m_x*m_x\n",
    "\n",
    "  # calculating regression coefficients\n",
    "  b_1 = SS_xy / SS_xx\n",
    "  b_0 = m_y - b_1*m_x\n",
    "\n",
    "  return (b_0, b_1)\n",
    "\n",
    "def plot_regression_line(x, y, b):\n",
    "  # plotting the actual points as scatter plot\n",
    "  plt.scatter(x, y, color = \"m\",\n",
    "        marker = \"o\", s = 30)\n",
    "\n",
    "  # predicted response vector\n",
    "  y_pred = b[0] + b[1]*x\n",
    "\n",
    "  # plotting the regression line\n",
    "  plt.plot(x, y_pred, color = \"g\")\n",
    "\n",
    "  # putting labels\n",
    "  plt.xlabel('x')\n",
    "  plt.ylabel('y')\n"
   ]
  },
  {
   "cell_type": "markdown",
   "id": "55911f06",
   "metadata": {},
   "source": []
  },
  {
   "cell_type": "code",
   "execution_count": null,
   "id": "8f0e8303",
   "metadata": {},
   "outputs": [],
   "source": [
    "df = pd.read_csv('data.csv')\n",
    "x_column = 'column1'\n",
    "y_column = 'column2'\n",
    "\n",
    "# Using Seaborn to create a simple scatter plot\n",
    "sns.scatterplot(data=df, x=x_column, y=y_column)\n",
    "\n",
    "# Display the plot\n",
    "plt.title(f'Scatter plot of {y_column} vs {x_column}')\n",
    "plt.xlabel(x_column)\n",
    "plt.ylabel(y_column)\n",
    "plt.show()"
   ]
  },
  {
   "cell_type": "markdown",
   "id": "e010d594",
   "metadata": {},
   "source": []
  },
  {
   "cell_type": "code",
   "execution_count": null,
   "id": "01ca4c59",
   "metadata": {},
   "outputs": [],
   "source": [
    "df = pd.read_csv('dataV2.csv')"
   ]
  },
  {
   "cell_type": "markdown",
   "id": "e44ad9c6",
   "metadata": {},
   "source": []
  },
  {
   "cell_type": "code",
   "execution_count": null,
   "id": "a3603254",
   "metadata": {},
   "outputs": [],
   "source": [
    "df = pd.read_csv('dataV3llama.csv')"
   ]
  },
  {
   "cell_type": "markdown",
   "id": "9bff0270",
   "metadata": {},
   "source": []
  }
 ],
 "metadata": {
  "kernelspec": {
   "display_name": "Python 3 (ipykernel)",
   "language": "python",
   "name": "python3"
  },
  "language_info": {
   "codemirror_mode": {
    "name": "ipython",
    "version": 3
   },
   "file_extension": ".py",
   "mimetype": "text/x-python",
   "name": "python",
   "nbconvert_exporter": "python",
   "pygments_lexer": "ipython3",
   "version": "3.9.12"
  }
 },
 "nbformat": 4,
 "nbformat_minor": 5
}
