{
 "cells": [
  {
   "cell_type": "markdown",
   "id": "6870f9bd",
   "metadata": {},
   "source": []
  },
  {
   "cell_type": "code",
   "execution_count": null,
   "id": "8f0e8303",
   "metadata": {},
   "outputs": [],
   "source": [
    "df = pd.read_csv('data.csv')"
   ]
  },
  {
   "cell_type": "markdown",
   "id": "e010d594",
   "metadata": {},
   "source": []
  },
  {
   "cell_type": "code",
   "execution_count": null,
   "id": "01ca4c59",
   "metadata": {},
   "outputs": [],
   "source": [
    "df = pd.read_csv('dataV2.csv')"
   ]
  },
  {
   "cell_type": "markdown",
   "id": "e44ad9c6",
   "metadata": {},
   "source": []
  },
  {
   "cell_type": "code",
   "execution_count": null,
   "id": "a3603254",
   "metadata": {},
   "outputs": [],
   "source": [
    "df = pd.read_csv('dataV3llama.csv')"
   ]
  },
  {
   "cell_type": "markdown",
   "id": "9bff0270",
   "metadata": {},
   "source": []
  }
 ],
 "metadata": {
  "kernelspec": {
   "display_name": "Python 3 (ipykernel)",
   "language": "python",
   "name": "python3"
  },
  "language_info": {
   "codemirror_mode": {
    "name": "ipython",
    "version": 3
   },
   "file_extension": ".py",
   "mimetype": "text/x-python",
   "name": "python",
   "nbconvert_exporter": "python",
   "pygments_lexer": "ipython3",
   "version": "3.9.12"
  }
 },
 "nbformat": 4,
 "nbformat_minor": 5
}
